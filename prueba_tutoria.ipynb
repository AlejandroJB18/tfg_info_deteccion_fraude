{
 "cells": [
  {
   "cell_type": "code",
   "execution_count": null,
   "metadata": {},
   "outputs": [
    {
     "name": "stdout",
     "output_type": "stream",
     "text": [
      "Cargando dataset 'Credit Card Fraud'...\n",
      "Dataset cargado.\n"
     ]
    }
   ],
   "source": [
    "# Celda 1 Corregida\n",
    "import pandas as pd\n",
    "from sklearn.datasets import fetch_openml\n",
    "from sklearn.model_selection import train_test_split\n",
    "from sklearn.preprocessing import StandardScaler\n",
    "from sklearn.linear_model import LogisticRegression\n",
    "from sklearn.metrics import confusion_matrix, classification_report\n",
    "\n",
    "# Cargamos el dataset 'Credit Card Fraud'\n",
    "print(\"Cargando dataset 'Credit Card Fraud'...\")\n",
    "cc_fraud = fetch_openml(data_id=1597, as_frame=True, parser='auto')\n",
    "X = cc_fraud.data\n",
    "y = pd.Series(pd.factorize(cc_fraud.target)[0], name='Class')\n",
    "print(\"Dataset cargado.\")\n",
    "\n",
    "# Para este dataset, la mayoría de las columnas ya están escaladas.\n",
    "# Escalamos únicamente la columna 'Amount', que es la que nos interesa para los costes.\n",
    "scaler = StandardScaler()\n",
    "X['scaled_amount'] = scaler.fit_transform(X['Amount'].values.reshape(-1, 1))\n",
    "\n",
    "# Eliminamos la columna original 'Amount'. La columna 'Time' ya no se procesa.\n",
    "X_processed = X.drop(['Amount'], axis=1)\n",
    "\n",
    "# División de datos\n",
    "X_train, X_test, y_train, y_test = train_test_split(\n",
    "    X_processed, y, test_size=0.3, random_state=42, stratify=y\n",
    ")\n",
    "\n",
    "# Guardamos el importe real para usarlo en los pesos\n",
    "# ¡IMPORTANTE! Usamos el DataFrame original 'X' ANTES de eliminar 'Amount'\n",
    "amount_train = X.loc[y_train.index, 'Amount']"
   ]
  },
  {
   "cell_type": "code",
   "execution_count": 6,
   "metadata": {},
   "outputs": [
    {
     "name": "stdout",
     "output_type": "stream",
     "text": [
      "--- Entrenando Modelo Convencional ---\n",
      "\n",
      "Resultados del Modelo Convencional:\n",
      "Matriz de Confusión:\n",
      "[[85280    15]\n",
      " [   57    91]]\n",
      "\n",
      "Reporte de Clasificación:\n",
      "              precision    recall  f1-score   support\n",
      "\n",
      "      Normal       1.00      1.00      1.00     85295\n",
      "      Fraude       0.86      0.61      0.72       148\n",
      "\n",
      "    accuracy                           1.00     85443\n",
      "   macro avg       0.93      0.81      0.86     85443\n",
      "weighted avg       1.00      1.00      1.00     85443\n",
      "\n"
     ]
    }
   ],
   "source": [
    "print(\"--- Entrenando Modelo Convencional ---\")\n",
    "lr_conv = LogisticRegression(random_state=42, max_iter=1000)\n",
    "lr_conv.fit(X_train, y_train)\n",
    "y_pred_conv = lr_conv.predict(X_test)\n",
    "\n",
    "print(\"\\nResultados del Modelo Convencional:\")\n",
    "print(\"Matriz de Confusión:\")\n",
    "print(confusion_matrix(y_test, y_pred_conv))\n",
    "print(\"\\nReporte de Clasificación:\")\n",
    "print(classification_report(y_test, y_pred_conv, target_names=['Normal', 'Fraude']))"
   ]
  },
  {
   "cell_type": "code",
   "execution_count": 7,
   "metadata": {},
   "outputs": [
    {
     "name": "stdout",
     "output_type": "stream",
     "text": [
      "\n",
      "--- Entrenando Modelo Avanzado Sensible al Importe ---\n",
      "\n",
      "Resultados del Modelo Sensible al Importe:\n",
      "Matriz de Confusión:\n",
      "[[85265    30]\n",
      " [   37   111]]\n",
      "\n",
      "Reporte de Clasificación:\n",
      "              precision    recall  f1-score   support\n",
      "\n",
      "      Normal       1.00      1.00      1.00     85295\n",
      "      Fraude       0.79      0.75      0.77       148\n",
      "\n",
      "    accuracy                           1.00     85443\n",
      "   macro avg       0.89      0.87      0.88     85443\n",
      "weighted avg       1.00      1.00      1.00     85443\n",
      "\n"
     ]
    }
   ],
   "source": [
    "print(\"\\n--- Entrenando Modelo Avanzado Sensible al Importe ---\")\n",
    "\n",
    "# Crear los pesos: si es fraude, el peso es su importe. Si no, el peso es 1.\n",
    "# Añadimos +1 para evitar importes de 0.\n",
    "sample_weights = y_train.apply(lambda is_fraud: amount_train[is_fraud] + 1 if is_fraud else 1)\n",
    "\n",
    "# Entrenar el modelo pasándole los pesos de cada muestra\n",
    "lr_cost_sensitive = LogisticRegression(random_state=42, max_iter=1000)\n",
    "lr_cost_sensitive.fit(X_train, y_train, sample_weight=sample_weights)\n",
    "y_pred_cs = lr_cost_sensitive.predict(X_test)\n",
    "\n",
    "print(\"\\nResultados del Modelo Sensible al Importe:\")\n",
    "print(\"Matriz de Confusión:\")\n",
    "print(confusion_matrix(y_test, y_pred_cs))\n",
    "print(\"\\nReporte de Clasificación:\")\n",
    "print(classification_report(y_test, y_pred_cs, target_names=['Normal', 'Fraude']))"
   ]
  }
 ],
 "metadata": {
  "kernelspec": {
   "display_name": "Python 3",
   "language": "python",
   "name": "python3"
  },
  "language_info": {
   "codemirror_mode": {
    "name": "ipython",
    "version": 3
   },
   "file_extension": ".py",
   "mimetype": "text/x-python",
   "name": "python",
   "nbconvert_exporter": "python",
   "pygments_lexer": "ipython3",
   "version": "3.11.1"
  }
 },
 "nbformat": 4,
 "nbformat_minor": 2
}
